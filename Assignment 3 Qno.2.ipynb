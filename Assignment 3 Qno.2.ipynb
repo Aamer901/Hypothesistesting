{
  "nbformat": 4,
  "nbformat_minor": 0,
  "metadata": {
    "colab": {
      "provenance": []
    },
    "kernelspec": {
      "name": "python3",
      "display_name": "Python 3"
    },
    "language_info": {
      "name": "python"
    }
  },
  "cells": [
    {
      "cell_type": "markdown",
      "source": [
        "Ho= no difference in TAT\n",
        "H1= There is any difference in TAT"
      ],
      "metadata": {
        "id": "YmPYOn_7IKBk"
      }
    },
    {
      "cell_type": "code",
      "execution_count": 1,
      "metadata": {
        "id": "Eta7qcygHoKr"
      },
      "outputs": [],
      "source": [
        "import pandas as pd\n",
        "import numpy as np\n",
        "from scipy import stats\n"
      ]
    },
    {
      "cell_type": "code",
      "source": [
        "df= pd.read_csv('LabTAT.csv')"
      ],
      "metadata": {
        "id": "sbBrEjzCHy17"
      },
      "execution_count": 2,
      "outputs": []
    },
    {
      "cell_type": "code",
      "source": [
        "pvalue= stats.f_oneway(df.iloc[:,0], df.iloc[:,1],df.iloc[:,2],df.iloc[:,3])"
      ],
      "metadata": {
        "id": "6DleR1kNIe4k"
      },
      "execution_count": 10,
      "outputs": []
    },
    {
      "cell_type": "code",
      "source": [
        "pvalue"
      ],
      "metadata": {
        "colab": {
          "base_uri": "https://localhost:8080/"
        },
        "id": "WgSSlCW5Ivv3",
        "outputId": "53226b58-1fce-47f2-fc20-4df5e2ef6961"
      },
      "execution_count": 11,
      "outputs": [
        {
          "output_type": "execute_result",
          "data": {
            "text/plain": [
              "F_onewayResult(statistic=118.70421654401437, pvalue=2.1156708949992414e-57)"
            ]
          },
          "metadata": {},
          "execution_count": 11
        }
      ]
    },
    {
      "cell_type": "code",
      "source": [
        "Hence, P value is greater than 0.05 so accept HO\n",
        "NO difference in TAT"
      ],
      "metadata": {
        "id": "4r1UC4nPJdp6"
      },
      "execution_count": null,
      "outputs": []
    },
    {
      "cell_type": "code",
      "source": [],
      "metadata": {
        "id": "_piB_zkCJNjY"
      },
      "execution_count": null,
      "outputs": []
    }
  ]
}